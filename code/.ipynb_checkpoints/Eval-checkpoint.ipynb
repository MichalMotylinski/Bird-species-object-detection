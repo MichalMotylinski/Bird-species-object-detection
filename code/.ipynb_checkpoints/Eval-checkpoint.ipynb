{
 "cells": [
  {
   "cell_type": "code",
   "execution_count": 2,
   "metadata": {},
   "outputs": [],
   "source": [
    "import os"
   ]
  },
  {
   "cell_type": "code",
   "execution_count": 3,
   "metadata": {},
   "outputs": [],
   "source": [
    "cur_dir = os.getcwd()"
   ]
  },
  {
   "cell_type": "code",
   "execution_count": 4,
   "metadata": {},
   "outputs": [],
   "source": [
    "main_dir = os.path.dirname(cur_dir)\n",
    "figures_dir = os.path.join(main_dir, \"figures\")\n",
    "scripts_dir = os.path.join(main_dir, \"scripts\")\n",
    "work_dir = os.path.join(main_dir, \"public/Birds\")\n",
    "detect_dir = os.path.join(work_dir, \"label\", \"detection\")\n",
    "data_dir = os.path.join(work_dir, \"dataset\")\n",
    "models_dir = os.path.join(main_dir, \"models\")"
   ]
  },
  {
   "cell_type": "code",
   "execution_count": 5,
   "metadata": {},
   "outputs": [],
   "source": [
    "model_path = os.path.join(models_dir, \"faster_rcnn_resnet101_v1_640x640_coco17_tpu-8\")"
   ]
  },
  {
   "cell_type": "code",
   "execution_count": 6,
   "metadata": {},
   "outputs": [
    {
     "name": "stdout",
     "output_type": "stream",
     "text": [
      "/home/michal/MSc_lin/7144COMP/Coursework_2/scripts\n",
      "2020-12-04 15:42:27.532391: I tensorflow/stream_executor/platform/default/dso_loader.cc:48] Successfully opened dynamic library libcudart.so.10.1\n",
      "WARNING:tensorflow:Forced number of epochs for all eval validations to be 1.\n",
      "W1204 15:42:29.946598 140526992045888 model_lib_v2.py:1010] Forced number of epochs for all eval validations to be 1.\n",
      "INFO:tensorflow:Maybe overwriting sample_1_of_n_eval_examples: None\n",
      "I1204 15:42:29.946705 140526992045888 config_util.py:552] Maybe overwriting sample_1_of_n_eval_examples: None\n",
      "INFO:tensorflow:Maybe overwriting use_bfloat16: False\n",
      "I1204 15:42:29.946755 140526992045888 config_util.py:552] Maybe overwriting use_bfloat16: False\n",
      "INFO:tensorflow:Maybe overwriting eval_num_epochs: 1\n",
      "I1204 15:42:29.946803 140526992045888 config_util.py:552] Maybe overwriting eval_num_epochs: 1\n",
      "WARNING:tensorflow:Expected number of evaluation epochs is 1, but instead encountered `eval_on_train_input_config.num_epochs` = 0. Overwriting `num_epochs` to 1.\n",
      "W1204 15:42:29.946872 140526992045888 model_lib_v2.py:1022] Expected number of evaluation epochs is 1, but instead encountered `eval_on_train_input_config.num_epochs` = 0. Overwriting `num_epochs` to 1.\n",
      "2020-12-04 15:42:29.967818: I tensorflow/stream_executor/platform/default/dso_loader.cc:48] Successfully opened dynamic library libcuda.so.1\n",
      "2020-12-04 15:42:29.995015: E tensorflow/stream_executor/cuda/cuda_driver.cc:314] failed call to cuInit: CUDA_ERROR_NO_DEVICE: no CUDA-capable device is detected\n",
      "2020-12-04 15:42:29.995060: I tensorflow/stream_executor/cuda/cuda_diagnostics.cc:169] retrieving CUDA diagnostic information for host: michal-PC\n",
      "2020-12-04 15:42:29.995073: I tensorflow/stream_executor/cuda/cuda_diagnostics.cc:176] hostname: michal-PC\n",
      "2020-12-04 15:42:29.995501: I tensorflow/stream_executor/cuda/cuda_diagnostics.cc:200] libcuda reported version is: 450.80.2\n",
      "2020-12-04 15:42:29.995537: I tensorflow/stream_executor/cuda/cuda_diagnostics.cc:204] kernel reported version is: 450.80.2\n",
      "2020-12-04 15:42:29.995548: I tensorflow/stream_executor/cuda/cuda_diagnostics.cc:310] kernel version seems to match DSO: 450.80.2\n",
      "2020-12-04 15:42:29.995898: I tensorflow/core/platform/cpu_feature_guard.cc:142] This TensorFlow binary is optimized with oneAPI Deep Neural Network Library (oneDNN)to use the following CPU instructions in performance-critical operations:  AVX2 FMA\n",
      "To enable them in other operations, rebuild TensorFlow with the appropriate compiler flags.\n",
      "2020-12-04 15:42:30.006168: I tensorflow/core/platform/profile_utils/cpu_utils.cc:104] CPU Frequency: 4150189999 Hz\n",
      "2020-12-04 15:42:30.006558: I tensorflow/compiler/xla/service/service.cc:168] XLA service 0x55dcc834dfa0 initialized for platform Host (this does not guarantee that XLA will be used). Devices:\n",
      "2020-12-04 15:42:30.006580: I tensorflow/compiler/xla/service/service.cc:176]   StreamExecutor device (0): Host, Default Version\n",
      "INFO:tensorflow:Reading unweighted datasets: ['/home/michal/MSc_lin/7144COMP/Coursework_2/public/Birds/test.record']\n",
      "I1204 15:42:30.030225 140526992045888 dataset_builder.py:148] Reading unweighted datasets: ['/home/michal/MSc_lin/7144COMP/Coursework_2/public/Birds/test.record']\n",
      "INFO:tensorflow:Reading record datasets for input file: ['/home/michal/MSc_lin/7144COMP/Coursework_2/public/Birds/test.record']\n",
      "I1204 15:42:30.031665 140526992045888 dataset_builder.py:77] Reading record datasets for input file: ['/home/michal/MSc_lin/7144COMP/Coursework_2/public/Birds/test.record']\n",
      "INFO:tensorflow:Number of filenames to read: 1\n",
      "I1204 15:42:30.031744 140526992045888 dataset_builder.py:78] Number of filenames to read: 1\n",
      "WARNING:tensorflow:num_readers has been reduced to 1 to match input file shards.\n",
      "W1204 15:42:30.031792 140526992045888 dataset_builder.py:85] num_readers has been reduced to 1 to match input file shards.\n",
      "WARNING:tensorflow:From /home/michal/anaconda3/envs/Object-Detection-API/lib/python3.8/site-packages/object_detection/builders/dataset_builder.py:99: parallel_interleave (from tensorflow.python.data.experimental.ops.interleave_ops) is deprecated and will be removed in a future version.\n",
      "Instructions for updating:\n",
      "Use `tf.data.Dataset.interleave(map_func, cycle_length, block_length, num_parallel_calls=tf.data.experimental.AUTOTUNE)` instead. If sloppy execution is desired, use `tf.data.Options.experimental_deterministic`.\n",
      "W1204 15:42:30.035120 140526992045888 deprecation.py:317] From /home/michal/anaconda3/envs/Object-Detection-API/lib/python3.8/site-packages/object_detection/builders/dataset_builder.py:99: parallel_interleave (from tensorflow.python.data.experimental.ops.interleave_ops) is deprecated and will be removed in a future version.\n",
      "Instructions for updating:\n",
      "Use `tf.data.Dataset.interleave(map_func, cycle_length, block_length, num_parallel_calls=tf.data.experimental.AUTOTUNE)` instead. If sloppy execution is desired, use `tf.data.Options.experimental_deterministic`.\n",
      "WARNING:tensorflow:From /home/michal/anaconda3/envs/Object-Detection-API/lib/python3.8/site-packages/object_detection/builders/dataset_builder.py:221: DatasetV1.map_with_legacy_function (from tensorflow.python.data.ops.dataset_ops) is deprecated and will be removed in a future version.\n",
      "Instructions for updating:\n",
      "Use `tf.data.Dataset.map()\n",
      "W1204 15:42:30.063376 140526992045888 deprecation.py:317] From /home/michal/anaconda3/envs/Object-Detection-API/lib/python3.8/site-packages/object_detection/builders/dataset_builder.py:221: DatasetV1.map_with_legacy_function (from tensorflow.python.data.ops.dataset_ops) is deprecated and will be removed in a future version.\n",
      "Instructions for updating:\n",
      "Use `tf.data.Dataset.map()\n",
      "WARNING:tensorflow:From /home/michal/anaconda3/envs/Object-Detection-API/lib/python3.8/site-packages/tensorflow/python/util/dispatch.py:201: sparse_to_dense (from tensorflow.python.ops.sparse_ops) is deprecated and will be removed in a future version.\n",
      "Instructions for updating:\n",
      "Create a `tf.sparse.SparseTensor` and use `tf.sparse.to_dense` instead.\n",
      "W1204 15:42:32.945433 140526992045888 deprecation.py:317] From /home/michal/anaconda3/envs/Object-Detection-API/lib/python3.8/site-packages/tensorflow/python/util/dispatch.py:201: sparse_to_dense (from tensorflow.python.ops.sparse_ops) is deprecated and will be removed in a future version.\n",
      "Instructions for updating:\n",
      "Create a `tf.sparse.SparseTensor` and use `tf.sparse.to_dense` instead.\n",
      "WARNING:tensorflow:From /home/michal/anaconda3/envs/Object-Detection-API/lib/python3.8/site-packages/object_detection/inputs.py:281: to_float (from tensorflow.python.ops.math_ops) is deprecated and will be removed in a future version.\n",
      "Instructions for updating:\n",
      "Use `tf.cast` instead.\n",
      "W1204 15:42:33.784928 140526992045888 deprecation.py:317] From /home/michal/anaconda3/envs/Object-Detection-API/lib/python3.8/site-packages/object_detection/inputs.py:281: to_float (from tensorflow.python.ops.math_ops) is deprecated and will be removed in a future version.\n",
      "Instructions for updating:\n",
      "Use `tf.cast` instead.\n",
      "INFO:tensorflow:Waiting for new checkpoint at /home/michal/MSc_lin/7144COMP/Coursework_2/models/faster_rcnn_resnet101_v1_1024x1024_coco17_tpu-8/\n",
      "I1204 15:42:35.729261 140526992045888 checkpoint_utils.py:125] Waiting for new checkpoint at /home/michal/MSc_lin/7144COMP/Coursework_2/models/faster_rcnn_resnet101_v1_1024x1024_coco17_tpu-8/\n",
      "INFO:tensorflow:Found new checkpoint at /home/michal/MSc_lin/7144COMP/Coursework_2/models/faster_rcnn_resnet101_v1_1024x1024_coco17_tpu-8/ckpt-1\n",
      "I1204 15:42:35.730203 140526992045888 checkpoint_utils.py:134] Found new checkpoint at /home/michal/MSc_lin/7144COMP/Coursework_2/models/faster_rcnn_resnet101_v1_1024x1024_coco17_tpu-8/ckpt-1\n",
      "WARNING:tensorflow:From /home/michal/anaconda3/envs/Object-Detection-API/lib/python3.8/site-packages/object_detection/model_lib_v2.py:796: set_learning_phase (from tensorflow.python.keras.backend) is deprecated and will be removed after 2020-10-11.\n",
      "Instructions for updating:\n",
      "Simply pass a True/False value to the `training` argument of the `__call__` method of your layer or model.\n",
      "W1204 15:42:35.739636 140526992045888 deprecation.py:317] From /home/michal/anaconda3/envs/Object-Detection-API/lib/python3.8/site-packages/object_detection/model_lib_v2.py:796: set_learning_phase (from tensorflow.python.keras.backend) is deprecated and will be removed after 2020-10-11.\n",
      "Instructions for updating:\n",
      "Simply pass a True/False value to the `training` argument of the `__call__` method of your layer or model.\n",
      "INFO:tensorflow:depth of additional conv before box predictor: 0\n",
      "I1204 15:42:40.357350 140526992045888 convolutional_keras_box_predictor.py:153] depth of additional conv before box predictor: 0\n",
      "WARNING:tensorflow:From /home/michal/anaconda3/envs/Object-Detection-API/lib/python3.8/site-packages/object_detection/utils/model_util.py:57: Tensor.experimental_ref (from tensorflow.python.framework.ops) is deprecated and will be removed in a future version.\n",
      "Instructions for updating:\n",
      "Use ref() instead.\n",
      "W1204 15:42:45.685086 140526992045888 deprecation.py:317] From /home/michal/anaconda3/envs/Object-Detection-API/lib/python3.8/site-packages/object_detection/utils/model_util.py:57: Tensor.experimental_ref (from tensorflow.python.framework.ops) is deprecated and will be removed in a future version.\n",
      "Instructions for updating:\n",
      "Use ref() instead.\n",
      "WARNING:tensorflow:From /home/michal/anaconda3/envs/Object-Detection-API/lib/python3.8/site-packages/tensorflow/python/util/dispatch.py:201: softmax_cross_entropy_with_logits (from tensorflow.python.ops.nn_ops) is deprecated and will be removed in a future version.\n",
      "Instructions for updating:\n",
      "\n",
      "Future major versions of TensorFlow will allow gradients to flow\n",
      "into the labels input on backprop by default.\n",
      "\n",
      "See `tf.nn.softmax_cross_entropy_with_logits_v2`.\n",
      "\n",
      "W1204 15:42:49.159413 140526992045888 deprecation.py:317] From /home/michal/anaconda3/envs/Object-Detection-API/lib/python3.8/site-packages/tensorflow/python/util/dispatch.py:201: softmax_cross_entropy_with_logits (from tensorflow.python.ops.nn_ops) is deprecated and will be removed in a future version.\n",
      "Instructions for updating:\n",
      "\n",
      "Future major versions of TensorFlow will allow gradients to flow\n",
      "into the labels input on backprop by default.\n",
      "\n",
      "See `tf.nn.softmax_cross_entropy_with_logits_v2`.\n",
      "\n",
      "^C\n"
     ]
    }
   ],
   "source": [
    "%cd $scripts_dir\n",
    "!CUDA_VISIBLE_DEVICES=\"\" python model_main_tf2.py --pipeline_config_path=$model_path/pipeline.config --model_dir=$model_path --checkpoint_dir=$model_path/ --alsologtostderr"
   ]
  },
  {
   "cell_type": "code",
   "execution_count": null,
   "metadata": {},
   "outputs": [],
   "source": []
  }
 ],
 "metadata": {
  "kernelspec": {
   "display_name": "Env-7144COMP",
   "language": "python",
   "name": "env-7144comp"
  },
  "language_info": {
   "codemirror_mode": {
    "name": "ipython",
    "version": 3
   },
   "file_extension": ".py",
   "mimetype": "text/x-python",
   "name": "python",
   "nbconvert_exporter": "python",
   "pygments_lexer": "ipython3",
   "version": "3.7.7"
  }
 },
 "nbformat": 4,
 "nbformat_minor": 4
}
