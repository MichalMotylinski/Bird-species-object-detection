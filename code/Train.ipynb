{
 "cells": [
  {
   "cell_type": "markdown",
   "metadata": {},
   "source": [
    "# Training"
   ]
  },
  {
   "cell_type": "code",
   "execution_count": 1,
   "metadata": {},
   "outputs": [],
   "source": [
    "import os"
   ]
  },
  {
   "cell_type": "code",
   "execution_count": 2,
   "metadata": {},
   "outputs": [],
   "source": [
    "cur_dir = os.getcwd()"
   ]
  },
  {
   "cell_type": "code",
   "execution_count": 3,
   "metadata": {},
   "outputs": [],
   "source": [
    "main_dir = os.path.dirname(cur_dir)\n",
    "figures_dir = os.path.join(main_dir, \"figures\")\n",
    "scripts_dir = os.path.join(main_dir, \"scripts\")\n",
    "work_dir = os.path.join(main_dir, \"public/Birds\")\n",
    "detect_dir = os.path.join(work_dir, \"label\", \"detection\")\n",
    "data_dir = os.path.join(work_dir, \"dataset\")\n",
    "models_dir = os.path.join(main_dir, \"models\")"
   ]
  },
  {
   "cell_type": "code",
   "execution_count": 4,
   "metadata": {},
   "outputs": [
    {
     "data": {
      "text/plain": [
       "'/home/michal/MSc_lin/7144COMP/Coursework_2/models'"
      ]
     },
     "execution_count": 4,
     "metadata": {},
     "output_type": "execute_result"
    }
   ],
   "source": [
    "models_dir"
   ]
  },
  {
   "cell_type": "code",
   "execution_count": 5,
   "metadata": {},
   "outputs": [],
   "source": [
    "model_path = os.path.join(models_dir, \"faster_rcnn_resnet101_v1_640x640_coco17_tpu-8\")"
   ]
  },
  {
   "cell_type": "code",
   "execution_count": 6,
   "metadata": {},
   "outputs": [
    {
     "data": {
      "text/plain": [
       "'/home/michal/MSc_lin/7144COMP/Coursework_2/models/faster_rcnn_resnet101_v1_640x640_coco17_tpu-8'"
      ]
     },
     "execution_count": 6,
     "metadata": {},
     "output_type": "execute_result"
    }
   ],
   "source": [
    "model_path"
   ]
  },
  {
   "cell_type": "code",
   "execution_count": 7,
   "metadata": {},
   "outputs": [],
   "source": [
    "!gedit $model_path/pipeline.config"
   ]
  },
  {
   "cell_type": "code",
   "execution_count": 8,
   "metadata": {},
   "outputs": [
    {
     "name": "stdout",
     "output_type": "stream",
     "text": [
      "/home/michal/MSc_lin/7144COMP/Coursework_2/scripts\n",
      "2020-12-08 19:31:47.958292: I tensorflow/stream_executor/platform/default/dso_loader.cc:48] Successfully opened dynamic library libcudart.so.10.1\n",
      "2020-12-08 19:31:49.459396: I tensorflow/stream_executor/platform/default/dso_loader.cc:48] Successfully opened dynamic library libcuda.so.1\n",
      "2020-12-08 19:31:49.484239: I tensorflow/stream_executor/cuda/cuda_gpu_executor.cc:982] successful NUMA node read from SysFS had negative value (-1), but there must be at least one NUMA node, so returning NUMA node zero\n",
      "2020-12-08 19:31:49.484590: I tensorflow/core/common_runtime/gpu/gpu_device.cc:1716] Found device 0 with properties: \n",
      "pciBusID: 0000:1c:00.0 name: GeForce RTX 2080 computeCapability: 7.5\n",
      "coreClock: 1.86GHz coreCount: 46 deviceMemorySize: 7.79GiB deviceMemoryBandwidth: 417.23GiB/s\n",
      "2020-12-08 19:31:49.484622: I tensorflow/stream_executor/platform/default/dso_loader.cc:48] Successfully opened dynamic library libcudart.so.10.1\n",
      "2020-12-08 19:31:49.486232: I tensorflow/stream_executor/platform/default/dso_loader.cc:48] Successfully opened dynamic library libcublas.so.10\n",
      "2020-12-08 19:31:49.487912: I tensorflow/stream_executor/platform/default/dso_loader.cc:48] Successfully opened dynamic library libcufft.so.10\n",
      "2020-12-08 19:31:49.488303: I tensorflow/stream_executor/platform/default/dso_loader.cc:48] Successfully opened dynamic library libcurand.so.10\n",
      "2020-12-08 19:31:49.490027: I tensorflow/stream_executor/platform/default/dso_loader.cc:48] Successfully opened dynamic library libcusolver.so.10\n",
      "2020-12-08 19:31:49.490929: I tensorflow/stream_executor/platform/default/dso_loader.cc:48] Successfully opened dynamic library libcusparse.so.10\n",
      "2020-12-08 19:31:49.494014: I tensorflow/stream_executor/platform/default/dso_loader.cc:48] Successfully opened dynamic library libcudnn.so.7\n",
      "2020-12-08 19:31:49.494204: I tensorflow/stream_executor/cuda/cuda_gpu_executor.cc:982] successful NUMA node read from SysFS had negative value (-1), but there must be at least one NUMA node, so returning NUMA node zero\n",
      "2020-12-08 19:31:49.494544: I tensorflow/stream_executor/cuda/cuda_gpu_executor.cc:982] successful NUMA node read from SysFS had negative value (-1), but there must be at least one NUMA node, so returning NUMA node zero\n",
      "2020-12-08 19:31:49.494786: I tensorflow/core/common_runtime/gpu/gpu_device.cc:1858] Adding visible gpu devices: 0\n",
      "2020-12-08 19:31:49.495138: I tensorflow/core/platform/cpu_feature_guard.cc:142] This TensorFlow binary is optimized with oneAPI Deep Neural Network Library (oneDNN)to use the following CPU instructions in performance-critical operations:  AVX2 FMA\n",
      "To enable them in other operations, rebuild TensorFlow with the appropriate compiler flags.\n",
      "2020-12-08 19:31:49.500931: I tensorflow/core/platform/profile_utils/cpu_utils.cc:104] CPU Frequency: 4149915000 Hz\n",
      "2020-12-08 19:31:49.501326: I tensorflow/compiler/xla/service/service.cc:168] XLA service 0x558cad4f7fa0 initialized for platform Host (this does not guarantee that XLA will be used). Devices:\n",
      "2020-12-08 19:31:49.501340: I tensorflow/compiler/xla/service/service.cc:176]   StreamExecutor device (0): Host, Default Version\n",
      "2020-12-08 19:31:49.507483: W tensorflow/compiler/xla/service/platform_util.cc:210] unable to create StreamExecutor for CUDA:0: failed initializing StreamExecutor for CUDA device ordinal 0: Internal: failed call to cuDevicePrimaryCtxRetain: CUDA_ERROR_OUT_OF_MEMORY: out of memory; total memory reported: 8366784512\n",
      "2020-12-08 19:31:49.507611: I tensorflow/compiler/jit/xla_gpu_device.cc:161] Ignoring visible XLA_GPU_JIT device. Device number is 0, reason: Internal: no supported devices found for platform CUDA\n",
      "2020-12-08 19:31:49.507797: I tensorflow/stream_executor/cuda/cuda_gpu_executor.cc:982] successful NUMA node read from SysFS had negative value (-1), but there must be at least one NUMA node, so returning NUMA node zero\n",
      "2020-12-08 19:31:49.508028: I tensorflow/core/common_runtime/gpu/gpu_device.cc:1716] Found device 0 with properties: \n",
      "pciBusID: 0000:1c:00.0 name: GeForce RTX 2080 computeCapability: 7.5\n",
      "coreClock: 1.86GHz coreCount: 46 deviceMemorySize: 7.79GiB deviceMemoryBandwidth: 417.23GiB/s\n",
      "2020-12-08 19:31:49.508056: I tensorflow/stream_executor/platform/default/dso_loader.cc:48] Successfully opened dynamic library libcudart.so.10.1\n",
      "2020-12-08 19:31:49.508095: I tensorflow/stream_executor/platform/default/dso_loader.cc:48] Successfully opened dynamic library libcublas.so.10\n",
      "2020-12-08 19:31:49.508109: I tensorflow/stream_executor/platform/default/dso_loader.cc:48] Successfully opened dynamic library libcufft.so.10\n",
      "2020-12-08 19:31:49.508121: I tensorflow/stream_executor/platform/default/dso_loader.cc:48] Successfully opened dynamic library libcurand.so.10\n",
      "2020-12-08 19:31:49.508133: I tensorflow/stream_executor/platform/default/dso_loader.cc:48] Successfully opened dynamic library libcusolver.so.10\n",
      "2020-12-08 19:31:49.508145: I tensorflow/stream_executor/platform/default/dso_loader.cc:48] Successfully opened dynamic library libcusparse.so.10\n",
      "2020-12-08 19:31:49.508157: I tensorflow/stream_executor/platform/default/dso_loader.cc:48] Successfully opened dynamic library libcudnn.so.7\n",
      "2020-12-08 19:31:49.508207: I tensorflow/stream_executor/cuda/cuda_gpu_executor.cc:982] successful NUMA node read from SysFS had negative value (-1), but there must be at least one NUMA node, so returning NUMA node zero\n",
      "2020-12-08 19:31:49.508434: I tensorflow/stream_executor/cuda/cuda_gpu_executor.cc:982] successful NUMA node read from SysFS had negative value (-1), but there must be at least one NUMA node, so returning NUMA node zero\n",
      "2020-12-08 19:31:49.508637: I tensorflow/core/common_runtime/gpu/gpu_device.cc:1858] Adding visible gpu devices: 0\n",
      "2020-12-08 19:31:49.508660: I tensorflow/stream_executor/platform/default/dso_loader.cc:48] Successfully opened dynamic library libcudart.so.10.1\n",
      "Traceback (most recent call last):\n",
      "  File \"model_main_tf2.py\", line 113, in <module>\n",
      "    tf.compat.v1.app.run()\n",
      "  File \"/home/michal/anaconda3/envs/Object-Detection-API/lib/python3.8/site-packages/tensorflow/python/platform/app.py\", line 40, in run\n",
      "    _run(main=main, argv=argv, flags_parser=_parse_flags_tolerate_undef)\n",
      "  File \"/home/michal/anaconda3/envs/Object-Detection-API/lib/python3.8/site-packages/absl/app.py\", line 303, in run\n",
      "    _run_main(main, args)\n",
      "  File \"/home/michal/anaconda3/envs/Object-Detection-API/lib/python3.8/site-packages/absl/app.py\", line 251, in _run_main\n",
      "    sys.exit(main(argv))\n",
      "  File \"model_main_tf2.py\", line 101, in main\n",
      "    strategy = tf.compat.v2.distribute.MirroredStrategy()\n",
      "  File \"/home/michal/anaconda3/envs/Object-Detection-API/lib/python3.8/site-packages/tensorflow/python/distribute/mirrored_strategy.py\", line 268, in __init__\n",
      "    extended = MirroredExtended(\n",
      "  File \"/home/michal/anaconda3/envs/Object-Detection-API/lib/python3.8/site-packages/tensorflow/python/distribute/mirrored_strategy.py\", line 306, in __init__\n",
      "    devices = devices or all_local_devices()\n",
      "  File \"/home/michal/anaconda3/envs/Object-Detection-API/lib/python3.8/site-packages/tensorflow/python/distribute/mirrored_strategy.py\", line 172, in all_local_devices\n",
      "    devices = config.list_logical_devices(\"GPU\")\n",
      "  File \"/home/michal/anaconda3/envs/Object-Detection-API/lib/python3.8/site-packages/tensorflow/python/framework/config.py\", line 403, in list_logical_devices\n",
      "    return context.context().list_logical_devices(device_type=device_type)\n",
      "  File \"/home/michal/anaconda3/envs/Object-Detection-API/lib/python3.8/site-packages/tensorflow/python/eager/context.py\", line 1344, in list_logical_devices\n",
      "    self.ensure_initialized()\n",
      "  File \"/home/michal/anaconda3/envs/Object-Detection-API/lib/python3.8/site-packages/tensorflow/python/eager/context.py\", line 539, in ensure_initialized\n",
      "    context_handle = pywrap_tfe.TFE_NewContext(opts)\n",
      "tensorflow.python.framework.errors_impl.InternalError: CUDA runtime implicit initialization on GPU:0 failed. Status: out of memory\n"
     ]
    }
   ],
   "source": [
    "%cd $scripts_dir\n",
    "!python model_main_tf2.py --model_dir=$model_path --pipeline_config_path=$model_path/pipeline.config --num_train_steps=25000 --alsologtostderr"
   ]
  },
  {
   "cell_type": "code",
   "execution_count": null,
   "metadata": {},
   "outputs": [],
   "source": []
  }
 ],
 "metadata": {
  "kernelspec": {
   "display_name": "Env-7144COMP",
   "language": "python",
   "name": "env-7144comp"
  },
  "language_info": {
   "codemirror_mode": {
    "name": "ipython",
    "version": 3
   },
   "file_extension": ".py",
   "mimetype": "text/x-python",
   "name": "python",
   "nbconvert_exporter": "python",
   "pygments_lexer": "ipython3",
   "version": "3.7.7"
  }
 },
 "nbformat": 4,
 "nbformat_minor": 4
}
